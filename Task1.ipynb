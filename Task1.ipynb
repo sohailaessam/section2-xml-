{
 "cells": [
  {
   "cell_type": "code",
   "execution_count": 1,
   "id": "1cb9ed2c",
   "metadata": {},
   "outputs": [],
   "source": [
    "from pyopenms import *"
   ]
  },
  {
   "cell_type": "code",
   "execution_count": 2,
   "id": "95545bbf",
   "metadata": {},
   "outputs": [
    {
     "name": "stdout",
     "output_type": "stream",
     "text": [
      "Monoisotopic mass of peptide [M] is 486.3165853398\n"
     ]
    }
   ],
   "source": [
    "seq = AASequence.fromString(\"AVKAV\")  \n",
    "mfull = seq.getMonoWeight()\n",
    "print(\"Monoisotopic mass of peptide [M] is\", mfull)"
   ]
  },
  {
   "cell_type": "code",
   "execution_count": 3,
   "id": "f784b2bd",
   "metadata": {},
   "outputs": [
    {
     "name": "stdout",
     "output_type": "stream",
     "text": [
      "The peptide AVKAV consists of the following amino acids:\n",
      "Alanine : 89.04767922330001\n",
      "Valine : 117.0789793509\n",
      "Lysine : 146.1055284466\n",
      "Alanine : 89.04767922330001\n",
      "Valine : 117.0789793509\n"
     ]
    }
   ],
   "source": [
    "seq = AASequence.fromString(\"AVKAV\") \n",
    "print(\"The peptide\", str(seq), \"consists of the following amino acids:\")\n",
    "for aa in seq:\n",
    "    print(aa.getName(), \":\", aa.getMonoWeight())"
   ]
  },
  {
   "cell_type": "code",
   "execution_count": null,
   "id": "ff959ec5",
   "metadata": {},
   "outputs": [],
   "source": []
  }
 ],
 "metadata": {
  "kernelspec": {
   "display_name": "Python 3 (ipykernel)",
   "language": "python",
   "name": "python3"
  },
  "language_info": {
   "codemirror_mode": {
    "name": "ipython",
    "version": 3
   },
   "file_extension": ".py",
   "mimetype": "text/x-python",
   "name": "python",
   "nbconvert_exporter": "python",
   "pygments_lexer": "ipython3",
   "version": "3.9.12"
  }
 },
 "nbformat": 4,
 "nbformat_minor": 5
}
