{
 "cells": [
  {
   "cell_type": "code",
   "execution_count": 1,
   "id": "09791de7",
   "metadata": {},
   "outputs": [
    {
     "ename": "ModuleNotFoundError",
     "evalue": "No module named 'pyopenms'",
     "output_type": "error",
     "traceback": [
      "\u001b[1;31m---------------------------------------------------------------------------\u001b[0m",
      "\u001b[1;31mModuleNotFoundError\u001b[0m                       Traceback (most recent call last)",
      "Input \u001b[1;32mIn [1]\u001b[0m, in \u001b[0;36m<cell line: 6>\u001b[1;34m()\u001b[0m\n\u001b[0;32m      1\u001b[0m \u001b[38;5;66;03m#############  Amino Acid Sequences\u001b[39;00m\n\u001b[0;32m      2\u001b[0m \u001b[38;5;66;03m############## The AASequence class handles amino acid sequences in OpenMS\u001b[39;00m\n\u001b[1;32m----> 6\u001b[0m \u001b[38;5;28;01mfrom\u001b[39;00m \u001b[38;5;21;01mpyopenms\u001b[39;00m \u001b[38;5;28;01mimport\u001b[39;00m \u001b[38;5;241m*\u001b[39m\n\u001b[0;32m      9\u001b[0m seq \u001b[38;5;241m=\u001b[39m AASequence\u001b[38;5;241m.\u001b[39mfromString(\u001b[38;5;124m\"\u001b[39m\u001b[38;5;124mDFPIANGER\u001b[39m\u001b[38;5;124m\"\u001b[39m)     \u001b[38;5;66;03m# create AASequence object from string representation\u001b[39;00m\n\u001b[0;32m     12\u001b[0m prefix \u001b[38;5;241m=\u001b[39m seq\u001b[38;5;241m.\u001b[39mgetPrefix(\u001b[38;5;241m4\u001b[39m)                    \u001b[38;5;66;03m# extract prefix of length 4\u001b[39;00m\n",
      "\u001b[1;31mModuleNotFoundError\u001b[0m: No module named 'pyopenms'"
     ]
    }
   ],
   "source": [
    "#############  Amino Acid Sequences\n",
    "############## The AASequence class handles amino acid sequences in OpenMS\n",
    "\n",
    "\n",
    "\n",
    "from pyopenms import *\n",
    "\n",
    "\n",
    "seq = AASequence.fromString(\"DFPIANGER\")     # create AASequence object from string representation\n",
    "\n",
    "\n",
    "prefix = seq.getPrefix(4)                    # extract prefix of length 4\n",
    "\n",
    "\n",
    "suffix = seq.getSuffix(5)                    # extract suffix of length 5\n",
    "\n",
    "\n",
    "concat = seq + seq                          # concatenate two sequences\n",
    "\n",
    "\n",
    "print(\"Sequence:\", seq)\n",
    "print(\"Prefix:\", prefix)\n",
    "print(\"Suffix:\", suffix)\n",
    "print(\"Concatenated:\", concat)"
   ]
  },
  {
   "cell_type": "code",
   "execution_count": 2,
   "id": "14360e23",
   "metadata": {},
   "outputs": [
    {
     "name": "stdout",
     "output_type": "stream",
     "text": [
      "Requirement already satisfied: pyopenms in e:\\new folder\\lib\\site-packages (2.7.0)\n",
      "Requirement already satisfied: numpy in e:\\new folder\\lib\\site-packages (from pyopenms) (1.21.5)\n"
     ]
    }
   ],
   "source": [
    "!pip install pyopenms"
   ]
  },
  {
   "cell_type": "code",
   "execution_count": 7,
   "id": "ffaf5ae8",
   "metadata": {},
   "outputs": [
    {
     "name": "stdout",
     "output_type": "stream",
     "text": [
      "Sequence: SOHAILA\n",
      "Prefix: SOH\n"
     ]
    }
   ],
   "source": [
    "from pyopenms import *\n",
    "\n",
    "seq = AASequence.fromString(\"SOHAILA\")  \n",
    "\n",
    "prefix = seq.getPrefix(3)                   \n",
    "\n",
    "print(\"Sequence:\", seq)\n",
    "print(\"Prefix:\", prefix)"
   ]
  },
  {
   "cell_type": "code",
   "execution_count": 9,
   "id": "bd459f8b",
   "metadata": {},
   "outputs": [
    {
     "name": "stdout",
     "output_type": "stream",
     "text": [
      "AILA\n"
     ]
    }
   ],
   "source": [
    "suffix = seq.getSuffix(4)\n",
    "print(suffix)"
   ]
  },
  {
   "cell_type": "code",
   "execution_count": 15,
   "id": "6a452eef",
   "metadata": {},
   "outputs": [
    {
     "name": "stdout",
     "output_type": "stream",
     "text": [
      "SOHAILASOHAILA\n"
     ]
    }
   ],
   "source": [
    "concat = seq + seq\n",
    "print(concat)"
   ]
  },
  {
   "cell_type": "code",
   "execution_count": 19,
   "id": "8e4a4feb",
   "metadata": {},
   "outputs": [
    {
     "name": "stdout",
     "output_type": "stream",
     "text": [
      "Monoisotopic mass of peptide [M] is 847.4915910735\n"
     ]
    }
   ],
   "source": [
    "mfull = seq.getMonoWeight()\n",
    "print(\"Monoisotopic mass of peptide [M] is\", mfull)"
   ]
  },
  {
   "cell_type": "code",
   "execution_count": 20,
   "id": "765d8db3",
   "metadata": {},
   "outputs": [
    {
     "name": "stdout",
     "output_type": "stream",
     "text": [
      "The peptide SOHAILA consists of the following amino acids:\n",
      "Serine : 105.0425942233\n",
      "Pyrrolysine : 255.15829266990002\n",
      "Histidine : 155.0694772871\n",
      "Alanine : 89.0476792233\n",
      "Isoleucine : 131.0946294147\n",
      "Leucine : 131.0946294147\n",
      "Alanine : 89.0476792233\n"
     ]
    }
   ],
   "source": [
    "seq = AASequence.fromString(\"SOHAILA\") \n",
    "print(\"The peptide\", str(seq), \"consists of the following amino acids:\")\n",
    "for aa in seq:\n",
    "    print(aa.getName(), \":\", aa.getMonoWeight())"
   ]
  },
  {
   "cell_type": "code",
   "execution_count": 21,
   "id": "f8060e1a",
   "metadata": {},
   "outputs": [
    {
     "name": "stdout",
     "output_type": "stream",
     "text": [
      "Peptide SOHAILA has molecular formula C39H65N11O10\n"
     ]
    }
   ],
   "source": [
    "seq = AASequence.fromString(\"SOHAILA\")\n",
    "seq_formula = seq.getFormula()\n",
    "print(\"Peptide\", seq, \"has molecular formula\", seq_formula)"
   ]
  },
  {
   "cell_type": "code",
   "execution_count": 22,
   "id": "eb699003",
   "metadata": {},
   "outputs": [
    {
     "name": "stdout",
     "output_type": "stream",
     "text": [
      "y3 ion sequence: LA\n",
      "y3 mz: 102.07314825387101\n",
      "y3 molecular formula: C9H18N2O3\n"
     ]
    }
   ],
   "source": [
    "suffix = seq.getSuffix(2)                                       \n",
    "\n",
    "\n",
    "print(\"y3 ion sequence:\", suffix)\n",
    "\n",
    "y3_formula = suffix.getFormula(Residue.ResidueType.YIon, 2)        \n",
    "\n",
    "suffix.getMonoWeight(Residue.ResidueType.YIon, 2) / 2.0            \n",
    "\n",
    "suffix.getMonoWeight(Residue.ResidueType.XIon, 2) / 2.0            \n",
    "\n",
    "\n",
    "\n",
    "print(\"y3 mz:\", suffix.getMonoWeight(Residue.ResidueType.YIon, 2) / 2.0 )\n",
    "\n",
    "print(\"y3 molecular formula:\", y3_formula)"
   ]
  },
  {
   "cell_type": "code",
   "execution_count": 23,
   "id": "cc0f5e66",
   "metadata": {},
   "outputs": [
    {
     "name": "stdout",
     "output_type": "stream",
     "text": [
      "ESSAMLA\n",
      "ESSAM(Oxidation)LA\n",
      "ESSAM(UniMod:35)LA\n",
      "ESSAM[147]LA\n",
      "ESSAM[147.03540001709996]LA\n"
     ]
    }
   ],
   "source": [
    "seq = AASequence.fromString(\"ESSAM(Oxidation)LA\")\n",
    "print(seq.toUnmodifiedString())\n",
    "print(seq.toString())\n",
    "print(seq.toUniModString())\n",
    "print(seq.toBracketString())\n",
    "print(seq.toBracketString(False))"
   ]
  },
  {
   "cell_type": "code",
   "execution_count": 25,
   "id": "3b507267",
   "metadata": {},
   "outputs": [
    {
     "name": "stdout",
     "output_type": "stream",
     "text": [
      "ESSAM(Oxidation)LA\n",
      "ESSAM(Oxidation)LA\n",
      "ESSAM(Oxidation)LA\n",
      "ESSAM(Oxidation)LA\n",
      "ESSAM(Oxidation)GER\n"
     ]
    }
   ],
   "source": [
    "print(AASequence.fromString(\"ESSAM(UniMod:35)LA\"))\n",
    "\n",
    "print(AASequence.fromString(\"ESSAM[+16]LA\"))\n",
    "\n",
    "print(AASequence.fromString(\"ESSAM[+15.99]LA\"))\n",
    "\n",
    "print(AASequence.fromString(\"ESSAM[147]LA\"))\n",
    "\n",
    "print(AASequence.fromString(\"ESSAM[147.035405]GER\"))"
   ]
  },
  {
   "cell_type": "code",
   "execution_count": 26,
   "id": "0e9b14e3",
   "metadata": {},
   "outputs": [],
   "source": [
    "bsa = FASTAEntry() \n",
    "\n",
    "bsa.sequence = \"BBBBBBBBBBBBBGGGGGGGGGGGSSSSSSS\"\n",
    "\n",
    "bsa.description = \"BSA (partial sequence)\"\n",
    "\n",
    "bsa.identifier = \"BSA\"\n",
    "\n",
    "alb = FASTAEntry()\n",
    "\n",
    "alb.sequence = \"NNNNNNNNNNNNNNNNNNNNNNNNNNNN\"\n",
    "\n",
    "alb.description = \"ALB (partial sequence)\"\n",
    "\n",
    "alb.identifier = \"ALB\"\n",
    "\n",
    "\n",
    "entries = [bsa, alb]\n",
    "\n",
    "f = FASTAFile()\n",
    "\n",
    "f.store(\"example.fasta\", entries)"
   ]
  },
  {
   "cell_type": "code",
   "execution_count": 27,
   "id": "95cbdc8e",
   "metadata": {},
   "outputs": [
    {
     "name": "stdout",
     "output_type": "stream",
     "text": [
      "2\n",
      "BSA BBBBBBBBBBBBBGGGGGGGGGGGSSSSSSS\n",
      "ALB NNNNNNNNNNNNNNNNNNNNNNNNNNNN\n"
     ]
    }
   ],
   "source": [
    "entries = []\n",
    "\n",
    "f = FASTAFile()\n",
    "\n",
    "f.load(\"example.fasta\", entries)\n",
    "\n",
    "print( len(entries) )\n",
    "\n",
    "for e in entries:\n",
    "    print (e.identifier, e.sequence)"
   ]
  },
  {
   "cell_type": "code",
   "execution_count": null,
   "id": "47ffc54e",
   "metadata": {},
   "outputs": [],
   "source": []
  },
  {
   "cell_type": "code",
   "execution_count": null,
   "id": "4d61500a",
   "metadata": {},
   "outputs": [],
   "source": []
  }
 ],
 "metadata": {
  "kernelspec": {
   "display_name": "Python 3 (ipykernel)",
   "language": "python",
   "name": "python3"
  },
  "language_info": {
   "codemirror_mode": {
    "name": "ipython",
    "version": 3
   },
   "file_extension": ".py",
   "mimetype": "text/x-python",
   "name": "python",
   "nbconvert_exporter": "python",
   "pygments_lexer": "ipython3",
   "version": "3.9.12"
  }
 },
 "nbformat": 4,
 "nbformat_minor": 5
}
