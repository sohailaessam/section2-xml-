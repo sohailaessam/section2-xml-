{
 "cells": [
  {
   "cell_type": "code",
   "execution_count": 1,
   "id": "8514072f",
   "metadata": {},
   "outputs": [
    {
     "name": "stdout",
     "output_type": "stream",
     "text": [
      "Requirement already satisfied: pyopenms in e:\\new folder\\lib\\site-packages (2.7.0)\n",
      "Requirement already satisfied: numpy in e:\\new folder\\lib\\site-packages (from pyopenms) (1.21.5)\n"
     ]
    }
   ],
   "source": [
    "!pip install pyopenms"
   ]
  },
  {
   "cell_type": "code",
   "execution_count": 2,
   "id": "376a77c5",
   "metadata": {},
   "outputs": [],
   "source": [
    "import pyopenms"
   ]
  },
  {
   "cell_type": "code",
   "execution_count": 3,
   "id": "601bca86",
   "metadata": {},
   "outputs": [
    {
     "name": "stdout",
     "output_type": "stream",
     "text": [
      " number is 6.0221367e+23\n"
     ]
    }
   ],
   "source": [
    "print (\" number is\", pyopenms.Constants.AVOGADRO)"
   ]
  },
  {
   "cell_type": "code",
   "execution_count": 4,
   "id": "674bee29",
   "metadata": {},
   "outputs": [
    {
     "data": {
      "text/plain": [
       "True"
      ]
     },
     "execution_count": 4,
     "metadata": {},
     "output_type": "execute_result"
    }
   ],
   "source": [
    "from pyopenms import *\n",
    "\n",
    "edb = ElementDB()\n",
    "\n",
    "edb.hasElement(\"O\")"
   ]
  },
  {
   "cell_type": "code",
   "execution_count": 5,
   "id": "9c80f828",
   "metadata": {},
   "outputs": [
    {
     "name": "stdout",
     "output_type": "stream",
     "text": [
      "Oxygen\n",
      "O\n",
      "15.994915\n",
      "15.999405323160001\n",
      "One mole of oxygen weighs 31.998810646320003 grams\n"
     ]
    }
   ],
   "source": [
    "oxygen = edb.getElement(\"O\")\n",
    "\n",
    "print(oxygen.getName())\n",
    "\n",
    "print(oxygen.getSymbol())\n",
    "\n",
    "print(oxygen.getMonoWeight())\n",
    "\n",
    "print(oxygen.getAverageWeight())\n",
    "\n",
    "print (\"One mole of oxygen weighs\", 2*oxygen.getAverageWeight(), \"grams\")"
   ]
  },
  {
   "cell_type": "code",
   "execution_count": 6,
   "id": "79e32400",
   "metadata": {},
   "outputs": [
    {
     "name": "stdout",
     "output_type": "stream",
     "text": [
      "Sulfur\n",
      "S\n",
      "31.97207073\n",
      "32.066084735289\n",
      "One mole of 16O2 weighs 31.98983 grams\n"
     ]
    }
   ],
   "source": [
    "sulfur = edb.getElement(\"S\")\n",
    "\n",
    "print(sulfur.getName())\n",
    "\n",
    "print(sulfur.getSymbol())\n",
    "\n",
    "print(sulfur.getMonoWeight())\n",
    "\n",
    "print(sulfur.getAverageWeight())\n",
    "\n",
    "isotopes = sulfur.getIsotopeDistribution()\n",
    "\n",
    "print (\"One mole of 16O2 weighs\", 2*oxygen.getMonoWeight(), \"grams\")"
   ]
  },
  {
   "cell_type": "code",
   "execution_count": 7,
   "id": "69f75275",
   "metadata": {},
   "outputs": [
    {
     "name": "stdout",
     "output_type": "stream",
     "text": [
      "Oxygen isotope 15.994915 has abundance 99.75699782371521 %\n",
      "Oxygen isotope 16.999132 has abundance 0.03800000122282654 %\n",
      "Oxygen isotope 17.999169 has abundance 0.20500000100582838 %\n"
     ]
    }
   ],
   "source": [
    "edb = ElementDB()\n",
    "\n",
    "\n",
    "oxygen_isoDist = {\"mass\": [], \"abundance\": []}\n",
    "\n",
    "oxygen = edb.getElement(\"O\")\n",
    "\n",
    "\n",
    "isotopes = oxygen.getIsotopeDistribution()\n",
    "\n",
    "\n",
    "for iso in isotopes.getContainer():\n",
    "    print (\"Oxygen isotope\", iso.getMZ(), \"has abundance\", iso.getIntensity()*100, \"%\")\n",
    "    oxygen_isoDist[\"mass\"].append(iso.getMZ())\n",
    "    oxygen_isoDist[\"abundance\"].append((iso.getIntensity() * 100))"
   ]
  },
  {
   "cell_type": "code",
   "execution_count": 8,
   "id": "87ac9269",
   "metadata": {},
   "outputs": [
    {
     "name": "stdout",
     "output_type": "stream",
     "text": [
      "Sulfur isotope 31.97207073 has abundance 94.92999911308289 %\n",
      "Sulfur isotope 32.971458 has abundance 0.7600000128149986 %\n",
      "Sulfur isotope 33.967867 has abundance 4.2899999767541885 %\n",
      "Sulfur isotope 35.967081 has abundance 0.019999999494757503 %\n"
     ]
    }
   ],
   "source": [
    "sulfur_isoDist = {\"mass\": [], \"abundance\": []}\n",
    "\n",
    "\n",
    "sulfur = edb.getElement(\"S\")\n",
    "\n",
    "\n",
    "isotopes = sulfur.getIsotopeDistribution()\n",
    "\n",
    "\n",
    "for iso in isotopes.getContainer():\n",
    "    print (\"Sulfur isotope\", iso.getMZ(), \"has abundance\", iso.getIntensity()*100, \"%\")\n",
    "    sulfur_isoDist[\"mass\"].append(iso.getMZ())\n",
    "    sulfur_isoDist[\"abundance\"].append((iso.getIntensity() * 100))"
   ]
  },
  {
   "cell_type": "code",
   "execution_count": 9,
   "id": "5b199213",
   "metadata": {},
   "outputs": [
    {
     "name": "stdout",
     "output_type": "stream",
     "text": [
      "Ethanol chemical formula: C2H6O1\n"
     ]
    }
   ],
   "source": [
    "methanol = EmpiricalFormula(\"CH3OH\")\n",
    "\n",
    "\n",
    "water = EmpiricalFormula(\"H2O\")\n",
    "\n",
    "\n",
    "\n",
    "ethanol = EmpiricalFormula(\"CH2\") + methanol\n",
    "\n",
    "\n",
    "\n",
    "print(\"Ethanol chemical formula:\", ethanol.toString())"
   ]
  },
  {
   "cell_type": "code",
   "execution_count": 10,
   "id": "00b3ca03",
   "metadata": {},
   "outputs": [
    {
     "name": "stdout",
     "output_type": "stream",
     "text": [
      "Lysine\n",
      "Lys\n",
      "K\n",
      "146.18788276708446\n",
      "146.1055284466\n",
      "2.16\n",
      "C6H14N2O2\n"
     ]
    }
   ],
   "source": [
    "lys=ResidueDB().getResidue(\"Lysine\")\n",
    "print(lys.getName())\n",
    "print(lys.getThreeLetterCode())\n",
    "print(lys.getOneLetterCode())\n",
    "print(lys.getAverageWeight())\n",
    "print(lys.getMonoWeight())\n",
    "print(lys.getPka())\n",
    "print(lys.getFormula().toString())"
   ]
  },
  {
   "cell_type": "code",
   "execution_count": 11,
   "id": "bc9cde7a",
   "metadata": {},
   "outputs": [
    {
     "name": "stdout",
     "output_type": "stream",
     "text": [
      "UniMod:35\n",
      "35\n",
      "15.994915\n",
      "Oxidation\n",
      "Oxidation (D)\n",
      "Oxidation or Hydroxylation\n",
      "O1\n"
     ]
    }
   ],
   "source": [
    "ox = ModificationsDB().getModification(\"Oxidation\")\n",
    "print(ox.getUniModAccession())\n",
    "print(ox.getUniModRecordId())\n",
    "print(ox.getDiffMonoMass())\n",
    "print(ox.getId())\n",
    "print(ox.getFullId())\n",
    "print(ox.getFullName())\n",
    "print(ox.getDiffFormula())"
   ]
  },
  {
   "cell_type": "code",
   "execution_count": 12,
   "id": "84fd8d41",
   "metadata": {},
   "outputs": [
    {
     "name": "stdout",
     "output_type": "stream",
     "text": [
      "15.994915 : 0.9975699782371521\n",
      "16.998269837800002 : 0.0003800000122282654\n",
      "18.0016246756 : 0.002050000010058284\n"
     ]
    }
   ],
   "source": [
    "isotopes = ox.getDiffFormula().getIsotopeDistribution(CoarseIsotopePatternGenerator(5))\n",
    "for iso in isotopes.getContainer():\n",
    "    print (iso.getMZ(), \":\", iso.getIntensity())"
   ]
  },
  {
   "cell_type": "code",
   "execution_count": 13,
   "id": "3f5a6cee",
   "metadata": {},
   "outputs": [
    {
     "name": "stdout",
     "output_type": "stream",
     "text": [
      "uridine\n",
      "U\n",
      "244.2043\n",
      "244.0695\n",
      "C9H12N2O6\n",
      "False\n",
      "1-methyladenosine\n",
      "True\n"
     ]
    }
   ],
   "source": [
    "uridine = RibonucleotideDB().getRibonucleotide(b\"U\")\n",
    "print(uridine.getName())\n",
    "print(uridine.getCode())\n",
    "print(uridine.getAvgMass())\n",
    "print(uridine.getMonoMass())\n",
    "print(uridine.getFormula().toString())\n",
    "print(uridine.isModified())\n",
    "methyladenosine = RibonucleotideDB().getRibonucleotide(b\"m1A\")\n",
    "print(methyladenosine.getName())\n",
    "print(methyladenosine.isModified())"
   ]
  },
  {
   "cell_type": "code",
   "execution_count": null,
   "id": "d0a1baf2",
   "metadata": {},
   "outputs": [],
   "source": []
  }
 ],
 "metadata": {
  "kernelspec": {
   "display_name": "Python 3 (ipykernel)",
   "language": "python",
   "name": "python3"
  },
  "language_info": {
   "codemirror_mode": {
    "name": "ipython",
    "version": 3
   },
   "file_extension": ".py",
   "mimetype": "text/x-python",
   "name": "python",
   "nbconvert_exporter": "python",
   "pygments_lexer": "ipython3",
   "version": "3.9.12"
  }
 },
 "nbformat": 4,
 "nbformat_minor": 5
}
